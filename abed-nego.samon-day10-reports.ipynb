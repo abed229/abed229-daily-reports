{
 "cells": [
  {
   "cell_type": "markdown",
   "id": "946dcae8",
   "metadata": {},
   "source": [
    "# Practical_6: Numpy"
   ]
  },
  {
   "cell_type": "markdown",
   "id": "5b5bce74-aa22-4880-a5e6-7079f5d91709",
   "metadata": {},
   "source": []
  },
  {
   "cell_type": "markdown",
   "id": "32d4294c-351d-417f-99be-b7cd1008b20a",
   "metadata": {},
   "source": [
    "---\n",
    "\n",
    "### Exercise 1:\n",
    "Create a NumPy array of integers from 1 to 10.\n",
    "\n",
    "```python\n",
    "# Exercise 1\n",
    "```\n",
    "\n",
    "---"
   ]
  },
  {
   "cell_type": "code",
   "execution_count": 4,
   "id": "6d3da52b-8e93-4194-a096-c9230b6904e0",
   "metadata": {},
   "outputs": [
    {
     "name": "stdout",
     "output_type": "stream",
     "text": [
      "[ 1  2  3  4  5  6  7  8  9 10]\n"
     ]
    }
   ],
   "source": [
    "import numpy as np\n",
    "numpay_array=np.arange(1,11)\n",
    "print(numpay_array)"
   ]
  },
  {
   "cell_type": "markdown",
   "id": "b6e55f5c-db1e-4b3f-bf51-efc6ea0d4a58",
   "metadata": {},
   "source": []
  },
  {
   "cell_type": "markdown",
   "id": "6876820a-612c-4e63-bf26-051c686ef265",
   "metadata": {},
   "source": [
    "### Exercise 2:\n",
    "Create a 3x3 NumPy array filled with zeros.\n",
    "\n",
    "```python\n",
    "# Exercise 2\n",
    "```\n",
    "\n",
    "---"
   ]
  },
  {
   "cell_type": "code",
   "execution_count": 7,
   "id": "1a3dad21-06fa-485a-9000-6a37c431e51f",
   "metadata": {},
   "outputs": [
    {
     "data": {
      "text/plain": [
       "array([[0., 0., 0.],\n",
       "       [0., 0., 0.],\n",
       "       [0., 0., 0.]])"
      ]
     },
     "execution_count": 7,
     "metadata": {},
     "output_type": "execute_result"
    }
   ],
   "source": [
    "zero_3x3=np.zeros((3,3))\n",
    "zero_3x3"
   ]
  },
  {
   "cell_type": "markdown",
   "id": "6e14470d-4130-4fc7-803d-6e830fb0786d",
   "metadata": {},
   "source": []
  },
  {
   "cell_type": "markdown",
   "id": "f0963690-ba87-459e-8955-98b407f0a841",
   "metadata": {},
   "source": [
    "### Exercise 3:\n",
    "Create a NumPy array of 10 evenly spaced numbers between 0 and 5.\n",
    "\n",
    "```python\n",
    "# Exercise 3\n",
    "```\n",
    "\n",
    "---"
   ]
  },
  {
   "cell_type": "code",
   "execution_count": 10,
   "id": "f78b67c6-5ff2-4a1c-9d2b-b9ffdee156a7",
   "metadata": {},
   "outputs": [
    {
     "data": {
      "text/plain": [
       "array([0.        , 0.55555556, 1.11111111, 1.66666667, 2.22222222,\n",
       "       2.77777778, 3.33333333, 3.88888889, 4.44444444, 5.        ])"
      ]
     },
     "execution_count": 10,
     "metadata": {},
     "output_type": "execute_result"
    }
   ],
   "source": [
    "evenly_spaced=np.linspace(0,5,10)\n",
    "evenly_spaced"
   ]
  },
  {
   "cell_type": "markdown",
   "id": "4fe258f3-6eff-469b-9c05-7fd7243b7a2a",
   "metadata": {},
   "source": []
  },
  {
   "cell_type": "markdown",
   "id": "a186a388-8cfc-4d3f-a648-9dbfae7ab383",
   "metadata": {},
   "source": [
    "### Exercise 4:\n",
    "Create a 5x5 identity matrix using NumPy.\n",
    "\n",
    "```python\n",
    "# Exercise 4\n",
    "```\n",
    "\n",
    "---"
   ]
  },
  {
   "cell_type": "code",
   "execution_count": 13,
   "id": "fc0104db-89bb-44f3-ac09-993b53c75035",
   "metadata": {},
   "outputs": [
    {
     "data": {
      "text/plain": [
       "array([[1., 1., 1., 1., 1.],\n",
       "       [1., 1., 1., 1., 1.],\n",
       "       [1., 1., 1., 1., 1.],\n",
       "       [1., 1., 1., 1., 1.],\n",
       "       [1., 1., 1., 1., 1.]])"
      ]
     },
     "execution_count": 13,
     "metadata": {},
     "output_type": "execute_result"
    }
   ],
   "source": [
    "identity_m=np.ones((5,5))\n",
    "identity_m"
   ]
  },
  {
   "cell_type": "markdown",
   "id": "e011ed9a-856b-46e5-9408-37223675f3ce",
   "metadata": {},
   "source": []
  },
  {
   "cell_type": "markdown",
   "id": "c0948c5d-728e-4af3-9bb8-800278a9941e",
   "metadata": {},
   "source": [
    "### Exercise 5:\n",
    "Create a 4x4 matrix with random values between 0 and 1.\n",
    "\n",
    "```python\n",
    "# Exercise 5\n",
    "```\n",
    "\n",
    "---"
   ]
  },
  {
   "cell_type": "code",
   "execution_count": 16,
   "id": "589d048c-91d1-4fc8-824b-c1095e0e7eb9",
   "metadata": {},
   "outputs": [
    {
     "data": {
      "text/plain": [
       "matrix([[0.41070786, 0.58136587, 0.76991612, 0.98424385],\n",
       "        [0.92373384, 0.50366157, 0.35691868, 0.63621006],\n",
       "        [0.84089495, 0.17421853, 0.96673302, 0.22976545],\n",
       "        [0.11021891, 0.72737658, 0.13693155, 0.56260988]])"
      ]
     },
     "execution_count": 16,
     "metadata": {},
     "output_type": "execute_result"
    }
   ],
   "source": [
    "identity_m=np.matrix(np.random.random(16)).reshape((4,4))\n",
    "identity_m"
   ]
  },
  {
   "cell_type": "markdown",
   "id": "580a4f1b-abe2-4998-a627-b51674128a92",
   "metadata": {},
   "source": []
  },
  {
   "cell_type": "markdown",
   "id": "80fac1e0-4472-496d-85b7-e71e03a874fd",
   "metadata": {},
   "source": [
    "### Exercise 6:\n",
    "Find the shape of a NumPy array.\n",
    "\n",
    "```python\n",
    "# Exercise 6\n",
    "```\n",
    "\n",
    "---"
   ]
  },
  {
   "cell_type": "code",
   "execution_count": 19,
   "id": "46ec9dce-ac66-4141-994c-9bd5db0d5036",
   "metadata": {},
   "outputs": [
    {
     "data": {
      "text/plain": [
       "(20,)"
      ]
     },
     "execution_count": 19,
     "metadata": {},
     "output_type": "execute_result"
    }
   ],
   "source": [
    "board=np.random.randint(12,16,20)\n",
    "board.shape"
   ]
  },
  {
   "cell_type": "markdown",
   "id": "68e01f41-08ca-49a1-96bc-79ac7c737464",
   "metadata": {},
   "source": []
  },
  {
   "cell_type": "markdown",
   "id": "bbb6aee2-20d9-42f8-bc9a-d7a118780dfc",
   "metadata": {},
   "source": [
    "### Exercise 7:\n",
    "Reshape a 1D NumPy array of 16 elements into a 4x4 matrix.\n",
    "\n",
    "```python\n",
    "# Exercise 7\n",
    "```\n",
    "\n",
    "---"
   ]
  },
  {
   "cell_type": "code",
   "execution_count": 22,
   "id": "cb3cc0b7-de13-4b3f-975f-c4fa31774e40",
   "metadata": {},
   "outputs": [
    {
     "data": {
      "text/plain": [
       "array([[0.82479206, 0.67735271, 0.41392929, 0.85909369],\n",
       "       [0.55167634, 0.21920051, 0.03725813, 0.42215808],\n",
       "       [0.7104336 , 0.12357067, 0.94073379, 0.36176669],\n",
       "       [0.2853648 , 0.7490746 , 0.24207229, 0.97878512]])"
      ]
     },
     "execution_count": 22,
     "metadata": {},
     "output_type": "execute_result"
    }
   ],
   "source": [
    "ft=np.random.random(16)\n",
    "ft=ft.reshape(4,4)\n",
    "ft"
   ]
  },
  {
   "cell_type": "markdown",
   "id": "be8228b8-dee8-4d2c-b775-6a0919294664",
   "metadata": {},
   "source": []
  },
  {
   "cell_type": "markdown",
   "id": "088ee997-2397-4ca7-812b-4cd04fbacd95",
   "metadata": {},
   "source": [
    "### Exercise 8:\n",
    "Find the data type of the elements in a NumPy array.\n",
    "\n",
    "```python\n",
    "# Exercise 8\n",
    "```\n",
    "\n",
    "---"
   ]
  },
  {
   "cell_type": "code",
   "execution_count": 25,
   "id": "f813887f-5265-4863-9af2-500f101754b3",
   "metadata": {},
   "outputs": [
    {
     "data": {
      "text/plain": [
       "<numpy.core._internal._ctypes at 0x1ac60a8bfe0>"
      ]
     },
     "execution_count": 25,
     "metadata": {},
     "output_type": "execute_result"
    }
   ],
   "source": [
    "ft.ctypes"
   ]
  },
  {
   "cell_type": "markdown",
   "id": "04248293-0584-40ec-a27d-f5b185f998e5",
   "metadata": {},
   "source": []
  },
  {
   "cell_type": "markdown",
   "id": "51fae94c-0c43-405a-9cab-86f08cb44409",
   "metadata": {},
   "source": [
    "### Exercise 9:\n",
    "Create a NumPy array of integers from 1 to 100 and find all even numbers in the array.\n",
    "\n",
    "```python\n",
    "# Exercise 9\n",
    "```\n",
    "\n",
    "---"
   ]
  },
  {
   "cell_type": "code",
   "execution_count": 28,
   "id": "a768b980-6511-4835-b80f-4fb4ea5a11aa",
   "metadata": {},
   "outputs": [
    {
     "data": {
      "text/plain": [
       "array([  2,   4,   6,   8,  10,  12,  14,  16,  18,  20,  22,  24,  26,\n",
       "        28,  30,  32,  34,  36,  38,  40,  42,  44,  46,  48,  50,  52,\n",
       "        54,  56,  58,  60,  62,  64,  66,  68,  70,  72,  74,  76,  78,\n",
       "        80,  82,  84,  86,  88,  90,  92,  94,  96,  98, 100])"
      ]
     },
     "execution_count": 28,
     "metadata": {},
     "output_type": "execute_result"
    }
   ],
   "source": [
    "integersInterger=np.arange(1,101)\n",
    "integersInterger[integersInterger%2==0]"
   ]
  },
  {
   "cell_type": "markdown",
   "id": "7a49243d-ec9e-4522-978e-224fbc773bf5",
   "metadata": {},
   "source": []
  },
  {
   "cell_type": "markdown",
   "id": "94883df2-6eaf-476e-952e-ba659679f8e5",
   "metadata": {},
   "source": [
    "### Exercise 10:\n",
    "Generate a 6x6 matrix of random integers between 10 and 50.\n",
    "\n",
    "```python\n",
    "# Exercise 10\n",
    "```\n",
    "\n",
    "---"
   ]
  },
  {
   "cell_type": "code",
   "execution_count": 31,
   "id": "28ecf8e2-211f-470e-a8b9-94871cea3d07",
   "metadata": {},
   "outputs": [
    {
     "data": {
      "text/plain": [
       "array([[30, 12, 41, 47, 46, 47],\n",
       "       [15, 14, 29, 47, 14, 23],\n",
       "       [44, 29, 17, 46, 19, 12],\n",
       "       [48, 11, 26, 15, 36, 45],\n",
       "       [37, 43, 37, 34, 15, 23],\n",
       "       [34, 39, 29, 15, 19, 24]])"
      ]
     },
     "execution_count": 31,
     "metadata": {},
     "output_type": "execute_result"
    }
   ],
   "source": [
    "mat_m=np.random.randint(10,50,size=(6,6))\n",
    "mat_m"
   ]
  },
  {
   "cell_type": "code",
   "execution_count": 32,
   "id": "9ae52802-2334-47a8-be1b-1b38aefe468e",
   "metadata": {},
   "outputs": [
    {
     "data": {
      "text/plain": [
       "array([[3, 3, 1, 3],\n",
       "       [2, 3, 0, 1]])"
      ]
     },
     "execution_count": 32,
     "metadata": {},
     "output_type": "execute_result"
    }
   ],
   "source": [
    "np.random.randint(5, size=(2, 4))"
   ]
  },
  {
   "cell_type": "markdown",
   "id": "f5e4b352-2eef-4b27-a80d-e40a62ec306d",
   "metadata": {},
   "source": [
    "### Exercise 11:\n",
    "Slice a 2D NumPy array to extract a submatrix.\n",
    "\n",
    "```python\n",
    "# Exercise 11\n",
    "```\n",
    "\n",
    "---"
   ]
  },
  {
   "cell_type": "code",
   "execution_count": 34,
   "id": "ff7ef6b4-36c9-472a-a628-8e25238b11db",
   "metadata": {},
   "outputs": [
    {
     "name": "stdout",
     "output_type": "stream",
     "text": [
      "M1 =  [[30 12 41]\n",
      " [15 14 29]\n",
      " [44 29 17]]\n",
      "M1 =  [[15 36 45]\n",
      " [34 15 23]\n",
      " [15 19 24]]\n"
     ]
    }
   ],
   "source": [
    "M1=mat_m[:3,:3]\n",
    "print(\"M1 = \",M1)\n",
    "M2=mat_m[3:,3:]\n",
    "print(\"M1 = \",M2)"
   ]
  },
  {
   "cell_type": "markdown",
   "id": "f686cd85-719a-4ef2-b8da-639cc10192f8",
   "metadata": {},
   "source": [
    "### "
   ]
  },
  {
   "cell_type": "markdown",
   "id": "aeab3d7a-8d3c-404a-93b0-740624259c88",
   "metadata": {},
   "source": []
  },
  {
   "cell_type": "markdown",
   "id": "81c4a455-aa90-4dd4-b880-510d7852dc1f",
   "metadata": {},
   "source": [
    "Exercise 12:\n",
    "Calculate the sum of all elements in a NumPy array.\n",
    "\n",
    "```python\n",
    "# Exercise 12\n",
    "```\n",
    "\n",
    "---"
   ]
  },
  {
   "cell_type": "code",
   "execution_count": 38,
   "id": "5b3daa66-89da-4dda-906b-669e567d469c",
   "metadata": {},
   "outputs": [
    {
     "data": {
      "text/plain": [
       "5050"
      ]
     },
     "execution_count": 38,
     "metadata": {},
     "output_type": "execute_result"
    }
   ],
   "source": [
    "sum_array=integersInterger.sum()\n",
    "sum_array"
   ]
  },
  {
   "cell_type": "markdown",
   "id": "afcd1be9-c987-4dc4-95b3-774b3e08bfd0",
   "metadata": {},
   "source": []
  },
  {
   "cell_type": "markdown",
   "id": "e366ecba-8ea0-47c3-9127-02d44de6e90a",
   "metadata": {},
   "source": [
    "### Exercise 13:\n",
    "Calculate the mean, median, and standard deviation of a NumPy array.\n",
    "\n",
    "```python\n",
    "# Exercise 13\n",
    "```\n",
    "\n",
    "---"
   ]
  },
  {
   "cell_type": "code",
   "execution_count": 41,
   "id": "321ebf9e-9eaf-4a7f-af9a-6aab9eabca49",
   "metadata": {},
   "outputs": [
    {
     "name": "stdout",
     "output_type": "stream",
     "text": [
      "The mean is  50.5\n",
      "The mean is  28.86607004772212\n",
      "The mean is  50.5\n"
     ]
    }
   ],
   "source": [
    "# This is for 1D\n",
    "mean_array=integersInterger.mean()\n",
    "print(\"The mean is \",mean_array)\n",
    "std_array=integersInterger.std()\n",
    "print(\"The mean is \",std_array)\n",
    "medium_array=np.median(integersInterger)\n",
    "print(\"The mean is \",medium_array)"
   ]
  },
  {
   "cell_type": "code",
   "execution_count": 42,
   "id": "07c7736a-2881-47bf-bd97-d30068e33c4b",
   "metadata": {},
   "outputs": [
    {
     "name": "stdout",
     "output_type": "stream",
     "text": [
      "The mean on columns are  [37.16666667 23.66666667 27.83333333 30.16666667 31.5        26.66666667]\n",
      "The mean of each row are  [34.66666667 24.66666667 29.83333333 34.         24.83333333 29.        ]\n",
      "The r std are  [12.72028127 11.79924668 13.15822514 14.0643363   9.51752769  8.29993307]\n",
      "The c td are  [10.64059313 13.04692386  7.71182353 14.16568624 11.93617285 12.68857754]\n",
      "The r median are  [43.5 19.  24.  31.  35.5 26.5]\n",
      "The c median are  [35.5 21.5 29.  40.  19.  23.5]\n"
     ]
    }
   ],
   "source": [
    "#let us look at 2D\n",
    "mean_arrayc=np.mean(mat_m,axis=1)\n",
    "print(\"The mean on columns are \",mean_arrayc)\n",
    "mean_arrayr=np.mean(mat_m,axis=0)\n",
    "print(\"The mean of each row are \",mean_arrayr)\n",
    "std_arrayr=np.std(mat_m,axis=1)\n",
    "std_arrayc=np.std(mat_m,axis=0)\n",
    "print(\"The r std are \",std_arrayr)\n",
    "print(\"The c td are \",std_arrayc)\n",
    "\n",
    "median_arrayr=np.median(mat_m,axis=1)\n",
    "median_arrayc=np.median(mat_m,axis=0)\n",
    "print(\"The r median are \",median_arrayr)\n",
    "print(\"The c median are \",median_arrayc)\n"
   ]
  },
  {
   "cell_type": "markdown",
   "id": "6e14f4e3-4f70-4ddf-9b3e-e3baea2c0754",
   "metadata": {},
   "source": []
  },
  {
   "cell_type": "markdown",
   "id": "30bc2163-6049-417b-9e0c-b43a864563c4",
   "metadata": {},
   "source": [
    "### Exercise 14:\n",
    "Find the maximum and minimum values in a NumPy array.\n",
    "\n",
    "```python\n",
    "# Exercise 14\n",
    "```\n",
    "\n",
    "---"
   ]
  },
  {
   "cell_type": "code",
   "execution_count": 45,
   "id": "3d5ba5a6-8a50-4982-9156-d04c1f49f385",
   "metadata": {},
   "outputs": [
    {
     "name": "stdout",
     "output_type": "stream",
     "text": [
      "The max is  100\n",
      "The min is  1\n"
     ]
    }
   ],
   "source": [
    "# This is for 1D\n",
    "max=integersInterger.max()\n",
    "print(\"The max is \",max)\n",
    "min=integersInterger.min()\n",
    "print(\"The min is \",min)\n"
   ]
  },
  {
   "cell_type": "code",
   "execution_count": 46,
   "id": "26a331a2-6e23-4b94-8e80-a4b23a958f1d",
   "metadata": {},
   "outputs": [
    {
     "name": "stdout",
     "output_type": "stream",
     "text": [
      "The max on columns are  [37.16666667 23.66666667 27.83333333 30.16666667 31.5        26.66666667]\n",
      "The max of each row are  [34.66666667 24.66666667 29.83333333 34.         24.83333333 29.        ]\n",
      "The min on columns are  [37.16666667 23.66666667 27.83333333 30.16666667 31.5        26.66666667]\n",
      "The min of each row are  [34.66666667 24.66666667 29.83333333 34.         24.83333333 29.        ]\n"
     ]
    }
   ],
   "source": [
    "#let us look at 2D\n",
    "max_arrayc=np.max(mat_m,axis=1)\n",
    "print(\"The max on columns are \",mean_arrayc)\n",
    "max_arrayr=np.max(mat_m,axis=0)\n",
    "print(\"The max of each row are \",mean_arrayr)\n",
    "\n",
    "\n",
    "max_arrayc=np.min(mat_m,axis=1)\n",
    "print(\"The min on columns are \",mean_arrayc)\n",
    "max_arrayr=np.min(mat_m,axis=0)\n",
    "print(\"The min of each row are \",mean_arrayr)"
   ]
  },
  {
   "cell_type": "markdown",
   "id": "09521baf-caaa-41cc-b136-6622fa8f8443",
   "metadata": {},
   "source": []
  },
  {
   "cell_type": "markdown",
   "id": "d0bd7b43-f492-4f85-91bc-6bc4e5d98a00",
   "metadata": {},
   "source": [
    "### Exercise 15:\n",
    "Create a NumPy array of 20 random integers and find the index of the maximum value.\n",
    "\n",
    "```python\n",
    "# Exercise 15\n",
    "```\n",
    "\n",
    "---"
   ]
  },
  {
   "cell_type": "code",
   "execution_count": 49,
   "id": "447d3213-9999-45a2-9d38-64cb5a2bfd19",
   "metadata": {},
   "outputs": [
    {
     "data": {
      "text/plain": [
       "array([10, 12, 18, 14,  7,  5,  8,  6, 17, 15, 15, 15, 16, 19, 14,  7, 10,\n",
       "       19, 15,  8,  8, 19, 14, 17, 14,  9, 10, 19,  5,  9])"
      ]
     },
     "execution_count": 49,
     "metadata": {},
     "output_type": "execute_result"
    }
   ],
   "source": [
    "rand_intenger=np.random.randint(5,20,30)\n",
    "rand_intenger"
   ]
  },
  {
   "cell_type": "code",
   "execution_count": 50,
   "id": "08b5396c-01cf-4f97-aed4-270d922ee814",
   "metadata": {},
   "outputs": [
    {
     "data": {
      "text/plain": [
       "13"
      ]
     },
     "execution_count": 50,
     "metadata": {},
     "output_type": "execute_result"
    }
   ],
   "source": [
    "np.argmax(rand_intenger)"
   ]
  },
  {
   "cell_type": "code",
   "execution_count": 51,
   "id": "9345c892-b248-4092-b500-ed6b06d938ae",
   "metadata": {},
   "outputs": [
    {
     "data": {
      "text/plain": [
       "5"
      ]
     },
     "execution_count": 51,
     "metadata": {},
     "output_type": "execute_result"
    }
   ],
   "source": [
    "np.argmin(rand_intenger)"
   ]
  },
  {
   "cell_type": "markdown",
   "id": "647b192d-1761-467e-b4fa-2a75b7bbd5e4",
   "metadata": {},
   "source": [
    "### Exercise 16:\n",
    "Create a NumPy array and reverse its elements.\n",
    "\n",
    "```python\n",
    "# Exercise 16\n",
    "```\n",
    "\n",
    "---"
   ]
  },
  {
   "cell_type": "code",
   "execution_count": 53,
   "id": "913b694e-66d3-4bd6-be0f-67eaa3707a18",
   "metadata": {},
   "outputs": [
    {
     "name": "stdout",
     "output_type": "stream",
     "text": [
      "[10 12 18 14  7  5  8  6 17 15 15 15 16 19 14  7 10 19 15  8  8 19 14 17\n",
      " 14  9 10 19  5  9]\n",
      "[ 9  5 19 10  9 14 17 14 19  8  8 15 19 10  7 14 19 16 15 15 15 17  6  8\n",
      "  5  7 14 18 12 10]\n"
     ]
    },
    {
     "data": {
      "text/plain": [
       "array([ 9,  5, 19, 10,  9, 14, 17, 14, 19,  8,  8, 15, 19, 10,  7, 14, 19,\n",
       "       16, 15, 15, 15, 17,  6,  8,  5,  7, 14, 18, 12, 10])"
      ]
     },
     "execution_count": 53,
     "metadata": {},
     "output_type": "execute_result"
    }
   ],
   "source": [
    "print(rand_intenger)\n",
    "print(rand_intenger[::-1])\n",
    "np.flip(rand_intenger,axis=0)"
   ]
  },
  {
   "cell_type": "markdown",
   "id": "5a8330ed-4f0f-4a33-9193-681e187342f3",
   "metadata": {},
   "source": []
  },
  {
   "cell_type": "markdown",
   "id": "6188682d-ebc7-46ce-9acf-812d3c7a056e",
   "metadata": {},
   "source": [
    "### Exercise 17:\n",
    "Create a 3x3 matrix and multiply it element-wise by another 3x3 matrix.\n",
    "\n",
    "```python\n",
    "# Exercise 17\n",
    "```\n",
    "\n",
    "---"
   ]
  },
  {
   "cell_type": "code",
   "execution_count": 56,
   "id": "63bfc890-53a1-4a2e-84a0-ac1c2d0b1a12",
   "metadata": {},
   "outputs": [],
   "source": [
    "mat_m3x31=np.random.randint(1,5,size=(3,3))\n",
    "mat_m3x32=np.random.randint(1,5,size=(3,3))"
   ]
  },
  {
   "cell_type": "code",
   "execution_count": 57,
   "id": "e95f005f-b573-43e8-9f73-12c45acf85e1",
   "metadata": {
    "jp-MarkdownHeadingCollapsed": true
   },
   "outputs": [
    {
     "name": "stdout",
     "output_type": "stream",
     "text": [
      "[[1 3 4]\n",
      " [2 4 2]\n",
      " [3 1 4]]\n",
      "[[2 4 2]\n",
      " [1 3 4]\n",
      " [1 2 2]]\n"
     ]
    }
   ],
   "source": [
    "print(mat_m3x31)\n",
    "print(mat_m3x32)"
   ]
  },
  {
   "cell_type": "code",
   "execution_count": 58,
   "id": "241900e1-8b40-4937-984e-cbac8434deb6",
   "metadata": {},
   "outputs": [
    {
     "data": {
      "text/plain": [
       "array([[ 2, 12,  8],\n",
       "       [ 2, 12,  8],\n",
       "       [ 3,  2,  8]])"
      ]
     },
     "execution_count": 58,
     "metadata": {},
     "output_type": "execute_result"
    }
   ],
   "source": [
    "mat_m3x31*mat_m3x32"
   ]
  },
  {
   "cell_type": "markdown",
   "id": "fc1c626e-0af7-428d-94e1-dcdfa800b13d",
   "metadata": {},
   "source": [
    "### Exercise 18:\n",
    "Create a diagonal matrix from a given 1D array.\n",
    "\n",
    "```python\n",
    "# Exercise 18\n",
    "```\n",
    "\n",
    "---"
   ]
  },
  {
   "cell_type": "code",
   "execution_count": 60,
   "id": "aed35b5a-e0d5-4e4b-aaf4-85ff0c6ff4b9",
   "metadata": {},
   "outputs": [
    {
     "name": "stdout",
     "output_type": "stream",
     "text": [
      "[1 2 3 4 5 6 7 8]\n"
     ]
    },
    {
     "data": {
      "text/plain": [
       "array([[1, 0, 0, 0, 0, 0, 0, 0],\n",
       "       [0, 2, 0, 0, 0, 0, 0, 0],\n",
       "       [0, 0, 3, 0, 0, 0, 0, 0],\n",
       "       [0, 0, 0, 4, 0, 0, 0, 0],\n",
       "       [0, 0, 0, 0, 5, 0, 0, 0],\n",
       "       [0, 0, 0, 0, 0, 6, 0, 0],\n",
       "       [0, 0, 0, 0, 0, 0, 7, 0],\n",
       "       [0, 0, 0, 0, 0, 0, 0, 8]])"
      ]
     },
     "execution_count": 60,
     "metadata": {},
     "output_type": "execute_result"
    }
   ],
   "source": [
    "hjk=np.arange(1, 9)\n",
    "print(hjk)\n",
    "diagonal=np.diag(hjk)\n",
    "diagonal"
   ]
  },
  {
   "cell_type": "markdown",
   "id": "16acad13-310a-440a-8dfa-2f7739e976f6",
   "metadata": {
    "jp-MarkdownHeadingCollapsed": true
   },
   "source": []
  },
  {
   "cell_type": "markdown",
   "id": "d38896a9-67d3-441f-8f8f-43cdeb7491c3",
   "metadata": {},
   "source": [
    "### Exercise 19:\n",
    "Perform matrix multiplication on two 2D NumPy arrays.\n",
    "\n",
    "```python\n",
    "# Exercise 19\n",
    "```\n",
    "\n",
    "---"
   ]
  },
  {
   "cell_type": "code",
   "execution_count": 63,
   "id": "17efc0f4-2681-45a5-a2d4-59939f0bf3a1",
   "metadata": {},
   "outputs": [
    {
     "name": "stdout",
     "output_type": "stream",
     "text": [
      "[[ 9 21 22]\n",
      " [10 24 24]\n",
      " [11 23 18]]\n"
     ]
    }
   ],
   "source": [
    "print(np.dot(mat_m3x31,mat_m3x32))\n"
   ]
  },
  {
   "cell_type": "markdown",
   "id": "77ac726d-04b2-411d-8678-5fb5d55bbad7",
   "metadata": {
    "jp-MarkdownHeadingCollapsed": true
   },
   "source": []
  },
  {
   "cell_type": "markdown",
   "id": "cb1ae448-4f98-4620-812f-ba8e27abaf62",
   "metadata": {},
   "source": [
    "### Exercise 20:\n",
    "Flatten a 2D NumPy array into a 1D array.\n",
    "\n",
    "```python\n",
    "# Exercise 20\n",
    "```\n",
    "\n",
    "---"
   ]
  },
  {
   "cell_type": "code",
   "execution_count": 66,
   "id": "b502d156-ef9e-40c6-ad57-e27410582272",
   "metadata": {},
   "outputs": [
    {
     "data": {
      "text/plain": [
       "array([1, 2, 3, 4])"
      ]
     },
     "execution_count": 66,
     "metadata": {},
     "output_type": "execute_result"
    }
   ],
   "source": [
    "a = np.array([[1,2], [3,4]])\n",
    "a.flatten()"
   ]
  },
  {
   "cell_type": "markdown",
   "id": "da958697-f15d-42f7-9414-9a1f71c730da",
   "metadata": {},
   "source": [
    "### Exercise 21:\n",
    "Stack two NumPy arrays vertically.\n",
    "\n",
    "```python\n",
    "# Exercise 21\n",
    "```\n",
    "\n",
    "---"
   ]
  },
  {
   "cell_type": "code",
   "execution_count": 68,
   "id": "6184250e-f533-430d-8124-55f6e89e5982",
   "metadata": {
    "jp-MarkdownHeadingCollapsed": true
   },
   "outputs": [
    {
     "data": {
      "text/plain": [
       "array([[2, 4, 2],\n",
       "       [1, 3, 4],\n",
       "       [1, 2, 2],\n",
       "       [1, 3, 4],\n",
       "       [2, 4, 2],\n",
       "       [3, 1, 4]])"
      ]
     },
     "execution_count": 68,
     "metadata": {},
     "output_type": "execute_result"
    }
   ],
   "source": [
    "np.vstack((mat_m3x32,mat_m3x31))"
   ]
  },
  {
   "cell_type": "markdown",
   "id": "034f993d-86de-46a7-9dbf-3b6e5d29e3e4",
   "metadata": {},
   "source": [
    "### Exercise 22:\n",
    "Stack two NumPy arrays horizontally.\n",
    "\n",
    "```python\n",
    "# Exercise 22\n",
    "```\n",
    "\n",
    "---"
   ]
  },
  {
   "cell_type": "code",
   "execution_count": 70,
   "id": "2e831900-5858-4081-b03c-861db3a03afc",
   "metadata": {
    "jp-MarkdownHeadingCollapsed": true
   },
   "outputs": [
    {
     "data": {
      "text/plain": [
       "array([[2, 4, 2, 1, 3, 4],\n",
       "       [1, 3, 4, 2, 4, 2],\n",
       "       [1, 2, 2, 3, 1, 4]])"
      ]
     },
     "execution_count": 70,
     "metadata": {},
     "output_type": "execute_result"
    }
   ],
   "source": [
    "np.hstack((mat_m3x32,mat_m3x31))\n"
   ]
  },
  {
   "cell_type": "markdown",
   "id": "5c401719-7f57-456d-9cac-7bee44e1ed13",
   "metadata": {},
   "source": [
    "### Exercise 23:\n",
    "Split a NumPy array into multiple sub-arrays.\n",
    "\n",
    "```python\n",
    "# Exercise 23\n",
    "```\n",
    "\n",
    "---"
   ]
  },
  {
   "cell_type": "code",
   "execution_count": 107,
   "id": "cc070cfe-3e17-4a4f-8299-8e2cd6b14b7d",
   "metadata": {},
   "outputs": [
    {
     "data": {
      "text/plain": [
       "array([[2, 4, 2],\n",
       "       [1, 3, 4],\n",
       "       [1, 2, 2]])"
      ]
     },
     "execution_count": 107,
     "metadata": {},
     "output_type": "execute_result"
    }
   ],
   "source": [
    "mat_m3x32"
   ]
  },
  {
   "cell_type": "code",
   "execution_count": 115,
   "id": "3fffea68-366f-4d6f-99b3-f24f39014e13",
   "metadata": {},
   "outputs": [
    {
     "data": {
      "text/plain": [
       "[array([[2, 4, 2]]), array([[1, 3, 4]]), array([[1, 2, 2]])]"
      ]
     },
     "execution_count": 115,
     "metadata": {},
     "output_type": "execute_result"
    }
   ],
   "source": [
    "\n",
    "np.split(mat_m3x32,3)"
   ]
  },
  {
   "cell_type": "markdown",
   "id": "12eef569-120a-490e-945b-4f763b347428",
   "metadata": {
    "jp-MarkdownHeadingCollapsed": true
   },
   "source": []
  },
  {
   "cell_type": "markdown",
   "id": "ab39c515-06eb-46f2-bced-5834545d98f3",
   "metadata": {},
   "source": [
    "### Exercise 24:\n",
    "Generate a random NumPy array and round each element to two decimal places.\n",
    "\n",
    "```python\n",
    "# Exercise 24\n",
    "```\n",
    "\n",
    "---"
   ]
  },
  {
   "cell_type": "code",
   "execution_count": 137,
   "id": "c8fdd683-6c76-4693-8954-c0459185c917",
   "metadata": {},
   "outputs": [
    {
     "data": {
      "text/plain": [
       "array([-1.15,  0.52, -0.73,  0.82, -1.16, -0.07,  1.44,  1.15, -0.66,\n",
       "        2.09, -0.44, -0.14])"
      ]
     },
     "execution_count": 137,
     "metadata": {},
     "output_type": "execute_result"
    }
   ],
   "source": [
    "new_tab=np.random.randn(12)\n",
    "np.round(new_tab,2) "
   ]
  },
  {
   "cell_type": "markdown",
   "id": "13992381-5cdc-454c-b55c-4a069eebf1ec",
   "metadata": {
    "jp-MarkdownHeadingCollapsed": true
   },
   "source": []
  },
  {
   "cell_type": "markdown",
   "id": "ed89995c-2fff-4917-89f9-379414124537",
   "metadata": {},
   "source": [
    "### Exercise 25:\n",
    "Find the unique elements of a NumPy array.\n",
    "\n",
    "```python\n",
    "# Exercise 25\n",
    "```\n",
    "\n",
    "---"
   ]
  },
  {
   "cell_type": "code",
   "execution_count": 142,
   "id": "b5a894d0-613d-45c3-be28-c5f9849f09ea",
   "metadata": {},
   "outputs": [
    {
     "data": {
      "text/plain": [
       "array([-1.16366769, -1.15190215, -0.73465874, -0.66206958, -0.442646  ,\n",
       "       -0.13939575, -0.06780034,  0.51512571,  0.82294856,  1.15369162,\n",
       "        1.44052228,  2.08561193])"
      ]
     },
     "execution_count": 142,
     "metadata": {},
     "output_type": "execute_result"
    }
   ],
   "source": [
    "uniqu=np.unique(new_tab)\n",
    "uniqu"
   ]
  },
  {
   "cell_type": "markdown",
   "id": "bfb3da7c-aa4e-4f76-8e8c-08f7ea4cda18",
   "metadata": {
    "jp-MarkdownHeadingCollapsed": true
   },
   "source": []
  },
  {
   "cell_type": "markdown",
   "id": "49b34293-4155-4c93-bb75-d1e51e385330",
   "metadata": {},
   "source": [
    "### Exercise 26:\n",
    "Replace all elements in a NumPy array that are less than a specific value with that value.\n",
    "\n",
    "```python\n",
    "# Exercise 26\n",
    "```\n",
    "\n",
    "---"
   ]
  },
  {
   "cell_type": "code",
   "execution_count": 147,
   "id": "66792e64-a317-4df8-8697-fb5c1edaed2f",
   "metadata": {},
   "outputs": [
    {
     "data": {
      "text/plain": [
       "array([8.        , 8.        , 8.        , 8.        , 8.        ,\n",
       "       8.        , 1.44052228, 1.15369162, 8.        , 2.08561193,\n",
       "       8.        , 8.        ])"
      ]
     },
     "execution_count": 147,
     "metadata": {},
     "output_type": "execute_result"
    }
   ],
   "source": [
    "new_tab[new_tab<=1]=8\n",
    "new_tab"
   ]
  },
  {
   "cell_type": "markdown",
   "id": "d64ec542-8ca2-4cb6-a90e-7ce3f7ae33a8",
   "metadata": {
    "jp-MarkdownHeadingCollapsed": true
   },
   "source": []
  },
  {
   "cell_type": "markdown",
   "id": "67d19ce2-1d87-4372-b870-30ec8222ec9d",
   "metadata": {},
   "source": [
    "### Exercise 27:\n",
    "Find the cumulative sum of the elements in a NumPy array.\n",
    "\n",
    "```python\n",
    "# Exercise 27\n",
    "```\n",
    "\n",
    "---"
   ]
  },
  {
   "cell_type": "code",
   "execution_count": 149,
   "id": "d06c37e6-22ec-40af-8527-13fa1915504a",
   "metadata": {},
   "outputs": [
    {
     "data": {
      "text/plain": [
       "76.67982583210737"
      ]
     },
     "execution_count": 149,
     "metadata": {},
     "output_type": "execute_result"
    }
   ],
   "source": [
    "np.sum(new_tab)"
   ]
  },
  {
   "cell_type": "markdown",
   "id": "e00f2660-7083-4854-9611-c1fe179403d7",
   "metadata": {
    "jp-MarkdownHeadingCollapsed": true
   },
   "source": []
  },
  {
   "cell_type": "markdown",
   "id": "fcdf52b7-6492-47d2-b613-6ba90ab6af4f",
   "metadata": {},
   "source": [
    "### Exercise 28:\n",
    "Create a NumPy array and find the number of non-zero elements in it.\n",
    "\n",
    "```python\n",
    "# Exercise 28\n",
    "```\n",
    "\n",
    "---"
   ]
  },
  {
   "cell_type": "code",
   "execution_count": 155,
   "id": "65762a29-afc6-4199-99da-9532af731b9f",
   "metadata": {},
   "outputs": [
    {
     "data": {
      "text/plain": [
       "12"
      ]
     },
     "execution_count": 155,
     "metadata": {},
     "output_type": "execute_result"
    }
   ],
   "source": [
    "np.count_nonzero(new_tab)"
   ]
  },
  {
   "cell_type": "markdown",
   "id": "ebc5e2d1-0aac-4d99-b3a6-3a5066f90c4f",
   "metadata": {
    "jp-MarkdownHeadingCollapsed": true
   },
   "source": []
  },
  {
   "cell_type": "markdown",
   "id": "00cb8a48-a28c-4300-8209-7f2111193fca",
   "metadata": {},
   "source": [
    "### Exercise 29:\n",
    "Create a NumPy array of random integers and sort it in ascending order.\n",
    "\n",
    "```python\n",
    "# Exercise 29\n",
    "```\n",
    "\n",
    "---"
   ]
  },
  {
   "cell_type": "code",
   "execution_count": 157,
   "id": "4b9f2901-5829-44ca-ab20-6b602b755a78",
   "metadata": {},
   "outputs": [
    {
     "data": {
      "text/plain": [
       "array([1.15369162, 1.44052228, 2.08561193, 8.        , 8.        ,\n",
       "       8.        , 8.        , 8.        , 8.        , 8.        ,\n",
       "       8.        , 8.        ])"
      ]
     },
     "execution_count": 157,
     "metadata": {},
     "output_type": "execute_result"
    }
   ],
   "source": [
    "np.sort(new_tab)"
   ]
  },
  {
   "cell_type": "markdown",
   "id": "c6348d9a-9da5-4c3d-bf2c-9345e52e2917",
   "metadata": {
    "jp-MarkdownHeadingCollapsed": true
   },
   "source": []
  },
  {
   "cell_type": "markdown",
   "id": "eb81a47a-b518-400e-bf9f-876b63cac99a",
   "metadata": {},
   "source": [
    "### Exercise 30:\n",
    "Find the row-wise and column-wise sum of a 3x3 matrix.\n",
    "\n",
    "```python\n",
    "# Exercise 30\n",
    "```\n",
    "\n",
    "---"
   ]
  },
  {
   "cell_type": "code",
   "execution_count": 163,
   "id": "dfb964d9-1096-42f1-a058-8bf1e77bb9bc",
   "metadata": {},
   "outputs": [
    {
     "name": "stdout",
     "output_type": "stream",
     "text": [
      "[4 9 8]\n",
      "[8 8 5]\n"
     ]
    }
   ],
   "source": [
    "print(np.sum(mat_m3x32,axis=0))\n",
    "print(np.sum(mat_m3x32,axis=1))"
   ]
  },
  {
   "cell_type": "markdown",
   "id": "399a9243-cb4b-4931-b14e-4ad4663f20ab",
   "metadata": {
    "jp-MarkdownHeadingCollapsed": true
   },
   "source": []
  },
  {
   "cell_type": "markdown",
   "id": "2a5191b1-12d8-45d8-a322-f6a3cfc11351",
   "metadata": {},
   "source": [
    "### Exercise 31:\n",
    "Generate a 2D NumPy array with random values and normalize it (scale the values between 0 and 1).\n",
    "\n",
    "```python\n",
    "# Exercise 31\n",
    "```\n",
    "\n",
    "---"
   ]
  },
  {
   "cell_type": "code",
   "execution_count": 166,
   "id": "ef58f687-a639-49a7-8453-21c1e8dcca2c",
   "metadata": {},
   "outputs": [
    {
     "name": "stdout",
     "output_type": "stream",
     "text": [
      "Random Matrix:\n",
      "[[0.85896501 0.52975845 0.85422099]\n",
      " [0.15532459 0.86638386 0.99402977]\n",
      " [0.79625611 0.31574069 0.90861569]]\n",
      "\n",
      "Normalized Matrix:\n",
      "[[0.83896039 0.44644277 0.83330402]\n",
      " [0.         0.84780598 1.        ]\n",
      " [0.76419168 0.19126638 0.89815959]]\n"
     ]
    }
   ],
   "source": [
    "# Generate a 3x3 random 2D array\n",
    "random_matrix = np.random.rand(3, 3)\n",
    "\n",
    "# Normalize the array (scaling values between 0 and 1)\n",
    "min_val = np.min(random_matrix)\n",
    "max_val = np.max(random_matrix)\n",
    "normalized_matrix = (random_matrix - min_val) / (max_val - min_val)\n",
    "\n",
    "print(\"Random Matrix:\")\n",
    "print(random_matrix)\n",
    "\n",
    "print(\"\\nNormalized Matrix:\")\n",
    "print(normalized_matrix)"
   ]
  },
  {
   "cell_type": "markdown",
   "id": "58429cd0-c7c2-49f4-8179-977107b41c86",
   "metadata": {
    "jp-MarkdownHeadingCollapsed": true
   },
   "source": []
  },
  {
   "cell_type": "markdown",
   "id": "b1add604-89f3-4ce4-8621-416f568ffd76",
   "metadata": {},
   "source": [
    "### Exercise 32:\n",
    "Create two NumPy arrays and find the dot product.\n",
    "\n",
    "```python\n",
    "# Exercise 32\n",
    "```\n",
    "\n",
    "---"
   ]
  },
  {
   "cell_type": "code",
   "execution_count": 168,
   "id": "d2d6ea97-8816-494b-802a-8c7f7bcd8539",
   "metadata": {},
   "outputs": [
    {
     "name": "stdout",
     "output_type": "stream",
     "text": [
      "[[16 24 24]\n",
      " [19 19 26]\n",
      " [11 13 16]]\n"
     ]
    }
   ],
   "source": [
    "print(np.dot(mat_m3x32,mat_m3x31))"
   ]
  },
  {
   "cell_type": "markdown",
   "id": "cde3e7e3-539c-4e78-a343-557d4c233358",
   "metadata": {
    "jp-MarkdownHeadingCollapsed": true
   },
   "source": []
  },
  {
   "cell_type": "markdown",
   "id": "3ba99508-8bf6-428f-8309-5e566e29575b",
   "metadata": {},
   "source": [
    "### Exercise 33:\n",
    "Find the trace of a square NumPy matrix.\n",
    "\n",
    "```python\n",
    "# Exercise 33\n",
    "```\n",
    "\n",
    "---"
   ]
  },
  {
   "cell_type": "code",
   "execution_count": null,
   "id": "3c95dd9d-78b2-453a-8a92-7013868f9da2",
   "metadata": {},
   "outputs": [],
   "source": []
  },
  {
   "cell_type": "code",
   "execution_count": null,
   "id": "bda6925e-4663-4113-bbd5-bc4c6d851db9",
   "metadata": {},
   "outputs": [],
   "source": [
    "matrix = np.array([[1, 2, 3],\n",
    "                   [4, 5, 6],\n",
    "                   [7, 8, 9]])\n",
    "\n",
    "trace_value = np.trace(matrix)\n",
    "print(\"Trace of the matrix:\", trace_value)"
   ]
  },
  {
   "cell_type": "markdown",
   "id": "7e3e5286-dd16-430c-bd6d-414636809fb8",
   "metadata": {
    "jp-MarkdownHeadingCollapsed": true
   },
   "source": []
  },
  {
   "cell_type": "markdown",
   "id": "124ba4c1-6ea7-465c-a8df-d5a7bd998684",
   "metadata": {},
   "source": [
    "### Exercise 34:\n",
    "Create a 2D array and swap two rows.\n",
    "\n",
    "```python\n",
    "# Exercise 34\n",
    "```\n",
    "\n",
    "---"
   ]
  },
  {
   "cell_type": "code",
   "execution_count": 173,
   "id": "0df64c59-7e03-48a2-b6b9-3ecac92e7136",
   "metadata": {},
   "outputs": [
    {
     "name": "stdout",
     "output_type": "stream",
     "text": [
      "Matrix after swapping rows 0 and 2:\n",
      "[[7 8 9]\n",
      " [4 5 6]\n",
      " [1 2 3]]\n"
     ]
    }
   ],
   "source": [
    "matrix = np.array([[1, 2, 3],\n",
    "                   [4, 5, 6],\n",
    "                   [7, 8, 9]])\n",
    "\n",
    "# Swap row 0 and row 2\n",
    "matrix[[0, 2]] = matrix[[2, 0]]\n",
    "\n",
    "print(\"Matrix after swapping rows 0 and 2:\")\n",
    "print(matrix)\n"
   ]
  },
  {
   "cell_type": "markdown",
   "id": "66dfb427-ef0e-43b7-96e5-e275d2032623",
   "metadata": {
    "jp-MarkdownHeadingCollapsed": true
   },
   "source": []
  },
  {
   "cell_type": "markdown",
   "id": "2960e015-c693-41eb-9c3c-0b5cd82a3073",
   "metadata": {},
   "source": [
    "### Exercise 35:\n",
    "Create a 1D NumPy array and convert it into a column vector.\n",
    "\n",
    "```python\n",
    "# Exercise 35\n",
    "```\n",
    "\n",
    "---"
   ]
  },
  {
   "cell_type": "code",
   "execution_count": 176,
   "id": "ff868d22-8813-4c21-aad4-ab4fac37963e",
   "metadata": {},
   "outputs": [
    {
     "name": "stdout",
     "output_type": "stream",
     "text": [
      "Column vector:\n",
      "[[1]\n",
      " [2]\n",
      " [3]\n",
      " [4]\n",
      " [5]]\n"
     ]
    }
   ],
   "source": [
    "array_1d = np.array([1, 2, 3, 4, 5])\n",
    "\n",
    "column_vector = array_1d.reshape(-1, 1)\n",
    "print(\"Column vector:\")\n",
    "print(column_vector)\n"
   ]
  },
  {
   "cell_type": "markdown",
   "id": "0ef147bf-cf44-4d04-b13a-6eebe2701e11",
   "metadata": {
    "jp-MarkdownHeadingCollapsed": true
   },
   "source": []
  },
  {
   "cell_type": "markdown",
   "id": "7596ddcc-8048-42e5-86e1-777831f52e2b",
   "metadata": {},
   "source": [
    "### Exercise 36:\n",
    "Find the determinant of a 3x3 matrix.\n",
    "\n",
    "```python\n",
    "# Exercise 36\n",
    "```\n",
    "\n",
    "---"
   ]
  },
  {
   "cell_type": "code",
   "execution_count": 181,
   "id": "04327d42-0251-4bd2-8646-80e85c3d7912",
   "metadata": {},
   "outputs": [
    {
     "name": "stdout",
     "output_type": "stream",
     "text": [
      "Determinant of the matrix: 2.0\n"
     ]
    }
   ],
   "source": [
    "determinant = np.linalg.det(mat_m3x32)\n",
    "print(\"Determinant of the matrix:\", determinant)\n"
   ]
  },
  {
   "cell_type": "code",
   "execution_count": null,
   "id": "76fb1085-3865-4b77-9888-d89593bbb9c3",
   "metadata": {
    "jp-MarkdownHeadingCollapsed": true
   },
   "outputs": [],
   "source": []
  },
  {
   "cell_type": "markdown",
   "id": "aa60d667-0b75-49fe-ab85-ff22002ecb89",
   "metadata": {},
   "source": [
    "### Exercise 37:\n",
    "Find the eigenvalues and eigenvectors of a 2x2 matrix.\n",
    "\n",
    "```python\n",
    "# Exercise 37\n",
    "```\n",
    "\n",
    "---"
   ]
  },
  {
   "cell_type": "code",
   "execution_count": null,
   "id": "3875cc47-7cd6-4f18-ac9e-6f3b7b1d2467",
   "metadata": {},
   "outputs": [],
   "source": []
  },
  {
   "cell_type": "markdown",
   "id": "0cd57c7a-56bc-47a5-aa8a-bf2fe33d8828",
   "metadata": {
    "jp-MarkdownHeadingCollapsed": true
   },
   "source": []
  },
  {
   "cell_type": "markdown",
   "id": "397a9966-59f4-4ffd-9a24-aec28f7c1d85",
   "metadata": {},
   "source": [
    "### Exercise 38:\n",
    "Solve a system of linear equations using NumPy.\n",
    "\n",
    "```python\n",
    "# Exercise 38\n",
    "```\n",
    "\n",
    "---"
   ]
  },
  {
   "cell_type": "code",
   "execution_count": 183,
   "id": "07d39590-d4df-456f-b707-9471c7e61640",
   "metadata": {},
   "outputs": [
    {
     "name": "stdout",
     "output_type": "stream",
     "text": [
      "Eigenvalues: [6.74752291+0.j         0.12623854+0.52959315j 0.12623854-0.52959315j]\n",
      "Eigenvectors:\n",
      "[[ 0.68315567+0.j          0.84592281+0.j          0.84592281-0.j        ]\n",
      " [ 0.61032016+0.j         -0.43073701+0.21928461j -0.43073701-0.21928461j]\n",
      " [ 0.40100828+0.j          0.06894525-0.21457176j  0.06894525+0.21457176j]]\n"
     ]
    }
   ],
   "source": [
    "eigenvalues, eigenvectors = np.linalg.eig(mat_m3x32)\n",
    "print(\"Eigenvalues:\", eigenvalues)\n",
    "print(\"Eigenvectors:\")\n",
    "print(eigenvectors)\n"
   ]
  },
  {
   "cell_type": "markdown",
   "id": "035fe57a-dc66-4d2e-8cc1-d39f14be6a06",
   "metadata": {
    "jp-MarkdownHeadingCollapsed": true
   },
   "source": []
  },
  {
   "cell_type": "markdown",
   "id": "3cfacd28-cac5-401c-8743-17a3bcc0c005",
   "metadata": {},
   "source": [
    "### Exercise 39:\n",
    "Add Gaussian noise to a NumPy array.\n",
    "\n",
    "```python\n",
    "# Exercise 39\n",
    "```\n",
    "\n",
    "---"
   ]
  },
  {
   "cell_type": "code",
   "execution_count": 185,
   "id": "0b2d3410-5be8-42f3-b40c-cf1f7198e1b8",
   "metadata": {},
   "outputs": [
    {
     "name": "stdout",
     "output_type": "stream",
     "text": [
      "Solution of the system of equations: [0.  2.5]\n"
     ]
    }
   ],
   "source": [
    "A = np.array([[3, 2],\n",
    "              [1, 2]])\n",
    "\n",
    "# Constant vector b\n",
    "b = np.array([5, 5])\n",
    "\n",
    "# Solving for x\n",
    "solution = np.linalg.solve(A, b)\n",
    "print(\"Solution of the system of equations:\", solution)\n"
   ]
  },
  {
   "cell_type": "markdown",
   "id": "0241a5ce-ec43-4879-8520-44dabe782461",
   "metadata": {
    "jp-MarkdownHeadingCollapsed": true
   },
   "source": []
  },
  {
   "cell_type": "markdown",
   "id": "8090443e-285a-4be7-89a6-981b3ad13281",
   "metadata": {},
   "source": [
    "### Exercise 40:\n",
    "Create a 4x4 matrix and extract the diagonal elements.\n",
    "\n",
    "```python\n",
    "# Exercise 40\n",
    "```\n",
    "\n",
    "---"
   ]
  },
  {
   "cell_type": "code",
   "execution_count": 187,
   "id": "20cda174-ff3f-43c3-922b-aac98b16f64f",
   "metadata": {},
   "outputs": [
    {
     "name": "stdout",
     "output_type": "stream",
     "text": [
      "Diagonal elements of the matrix:\n",
      "[ 1  6 11 16]\n"
     ]
    }
   ],
   "source": [
    "matrix = np.array([[1, 2, 3, 4],\n",
    "                   [5, 6, 7, 8],\n",
    "                   [9, 10, 11, 12],\n",
    "                   [13, 14, 15, 16]])\n",
    "\n",
    "diagonal_elements = np.diag(matrix)\n",
    "print(\"Diagonal elements of the matrix:\")\n",
    "print(diagonal_elements)\n"
   ]
  },
  {
   "cell_type": "markdown",
   "id": "2145cc7c-eae9-414a-9b9c-4cd2bb7b7be4",
   "metadata": {
    "jp-MarkdownHeadingCollapsed": true
   },
   "source": [
    "### Exercise 41:\n",
    "Generate a NumPy array of 100 random values and clip the values to a range between 10 and 50.\n",
    "\n",
    "```python\n",
    "# Exercise 41\n",
    "```\n",
    "\n",
    "---\n",
    "\n",
    "### Exercise 42:\n",
    "Create a 2D NumPy array and replace all negative values with zero.\n",
    "\n",
    "```python\n",
    "# Exercise 42\n",
    "```\n",
    "\n",
    "---\n",
    "\n",
    "### Exercise 43:\n",
    "Find the inner and outer products of two NumPy arrays.\n",
    "\n",
    "```python\n",
    "# Exercise 43\n",
    "```\n",
    "\n",
    "---\n",
    "\n",
    "### Exercise 44:\n",
    "Calculate the pairwise distances between points in a NumPy array.\n",
    "\n",
    "```python\n",
    "# Exercise 44\n",
    "```\n",
    "\n",
    "---\n",
    "\n",
    "### Exercise 45:\n",
    "Create a structured NumPy array with fields for `name`, `age`, and `height`.\n",
    "\n",
    "```python\n",
    "# Exercise 45\n",
    "```\n",
    "\n",
    "---\n",
    "\n",
    "### Exercise 46:\n",
    "Create a 5x5 matrix of random integers and count the occurrences of each unique value.\n",
    "\n",
    "```python\n",
    "# Exercise 46\n",
    "```\n",
    "\n",
    "---\n",
    "\n",
    "### Exercise 47:\n",
    "Generate a random 3x3 NumPy array and subtract the mean of each row from the corresponding row.\n",
    "\n",
    "```python\n",
    "# Exercise 47\n",
    "```\n",
    "\n",
    "---\n",
    "\n",
    "### Exercise 48:\n",
    "Create a NumPy array of random integers and check if any of the values are greater than 50.\n",
    "\n",
    "```python\n",
    "# Exercise 48\n",
    "```\n",
    "\n",
    "---\n",
    "\n",
    "### Exercise 49:\n",
    "Calculate the moving average of a 1D NumPy array.\n",
    "\n",
    "```python\n",
    "# Exercise 49\n",
    "```\n",
    "\n",
    "---\n",
    "\n",
    "### Exercise 50:\n",
    "Find the Pearson correlation coefficient between two NumPy arrays.\n",
    "\n",
    "```python\n",
    "# Exercise 50\n",
    "```\n",
    "\n",
    "---\n",
    "\n",
    "### Exercise 51:\n",
    "Convert a NumPy array of radians to degrees.\n",
    "\n",
    "```python\n",
    "# Exercise 51\n",
    "```\n",
    "\n",
    "---\n",
    "\n",
    "### Exercise 52:\n",
    "Create a random NumPy array and compute its variance and standard deviation.\n",
    "\n",
    "```python\n",
    "# Exercise 52\n",
    "```\n",
    "\n",
    "---\n",
    "\n",
    "### Exercise 53:\n",
    "Create a 2D NumPy array and find the indices of the maximum values along each axis.\n",
    "\n",
    "```python\n",
    "# Exercise 53\n",
    "```\n",
    "\n",
    "---\n",
    "\n",
    "### Exercise 54:\n",
    "Compute the inverse of a 2x2 NumPy matrix.\n",
    "\n",
    "```python\n",
    "# Exercise 54\n",
    "```\n",
    "\n",
    "---\n",
    "\n",
    "### Exercise 55:\n",
    "Create a NumPy array of 10 random values and standardize it (mean 0, variance 1).\n",
    "\n",
    "```python\n",
    "# Exercise 55\n",
    "```\n",
    "\n",
    "---\n",
    "\n",
    "### Exercise 56:\n",
    "Perform element-wise addition and subtraction on two NumPy arrays.\n",
    "\n",
    "```python\n",
    "# Exercise 56\n",
    "```\n",
    "\n",
    "---\n",
    "\n",
    "### Exercise 57:\n",
    "Create a NumPy array of random values and find the maximum element's index.\n",
    "\n",
    "```python\n",
    "# Exercise 57\n",
    "```\n",
    "\n",
    "---\n",
    "\n",
    "### Exercise 58:\n",
    "Create a 3x3 NumPy array and rotate it by 90 degrees.\n",
    "\n",
    "```python\n",
    "# Exercise 58\n",
    "```\n",
    "\n",
    "---\n",
    "\n",
    "### Exercise 59:\n",
    "Compute the Frobenius norm of a matrix.\n",
    "\n",
    "```python\n",
    "# Exercise 59\n",
    "```\n",
    "\n",
    "---\n",
    "\n",
    "### Exercise 60:\n",
    "Create a 3D NumPy array and slice out a subarray.\n",
    "\n",
    "```python\n",
    "# Exercise 60\n",
    "```\n",
    "\n",
    "---"
   ]
  }
 ],
 "metadata": {
  "kernelspec": {
   "display_name": "Python 3 (ipykernel)",
   "language": "python",
   "name": "python3"
  },
  "language_info": {
   "codemirror_mode": {
    "name": "ipython",
    "version": 3
   },
   "file_extension": ".py",
   "mimetype": "text/x-python",
   "name": "python",
   "nbconvert_exporter": "python",
   "pygments_lexer": "ipython3",
   "version": "3.12.4"
  }
 },
 "nbformat": 4,
 "nbformat_minor": 5
}
