{
 "cells": [
  {
   "cell_type": "markdown",
   "id": "f6263d82-c194-4ed5-9c04-d1006bf49c1f",
   "metadata": {},
   "source": [
    "Exercise 1"
   ]
  },
  {
   "cell_type": "code",
   "execution_count": 4,
   "id": "ea573505-8b83-4a57-936d-237080993bcc",
   "metadata": {},
   "outputs": [
    {
     "name": "stdin",
     "output_type": "stream",
     "text": [
      "Enter the number n 23\n"
     ]
    },
    {
     "name": "stdout",
     "output_type": "stream",
     "text": [
      "The sum is  322\n"
     ]
    }
   ],
   "source": [
    "#1\n",
    "#(i)\n",
    "n=int(input(\"Enter the number n\"))\n",
    "sum=0\n",
    "for i in range(n):\n",
    "    sum=sum+(i+3)\n",
    "print(\"The sum is \", sum)"
   ]
  },
  {
   "cell_type": "code",
   "execution_count": 10,
   "id": "7b231f5c-944d-44af-b3b4-3a82713cbda7",
   "metadata": {},
   "outputs": [
    {
     "name": "stdin",
     "output_type": "stream",
     "text": [
      "Enter the number n 2\n"
     ]
    },
    {
     "name": "stdout",
     "output_type": "stream",
     "text": [
      "The product is  12\n"
     ]
    }
   ],
   "source": [
    "#(ii)\n",
    "n=int(input(\"Enter the number n\"))\n",
    "prod=1\n",
    "for i in range(n):\n",
    "    prod=prod*(i+3)\n",
    "print(\"The product is \", prod)"
   ]
  },
  {
   "cell_type": "markdown",
   "id": "c5b7510f-648b-4518-bd82-47188766f839",
   "metadata": {},
   "source": [
    "# Ex 2"
   ]
  },
  {
   "cell_type": "code",
   "execution_count": 21,
   "id": "a97758bc-1fb8-4e1e-81bd-427fd5e7041f",
   "metadata": {},
   "outputs": [
    {
     "name": "stdin",
     "output_type": "stream",
     "text": [
      "Enter the number of the day between 0 and 6 2\n"
     ]
    },
    {
     "name": "stdout",
     "output_type": "stream",
     "text": [
      "Tuesday\n"
     ]
    }
   ],
   "source": [
    "days=[\"Sunday\",\"Monday\",\"Tuesday\",\"Wednesday\",\"Th\",\"Friday\",\"saturday\"]\n",
    "numday=int(input(\"Enter the number of the day between 0 and 6\"))\n",
    "if(numday==0 or numday==6):\n",
    "    print(\"Weekend\")\n",
    "elif(numday>0 and numday<6):\n",
    "    print(days[numday])\n",
    "else:\n",
    "    print(\"The number is not correct\")"
   ]
  },
  {
   "cell_type": "markdown",
   "id": "0325b431-cd01-4028-8a84-83968d7d366a",
   "metadata": {},
   "source": [
    "# Ex 3"
   ]
  },
  {
   "cell_type": "code",
   "execution_count": 30,
   "id": "45272c99-f1b8-494f-9b43-bc07fbeae531",
   "metadata": {},
   "outputs": [
    {
     "name": "stdin",
     "output_type": "stream",
     "text": [
      "Enter the number of the month between 0 and 11 2\n"
     ]
    },
    {
     "name": "stdout",
     "output_type": "stream",
     "text": [
      "M\n"
     ]
    }
   ],
   "source": [
    "months=[\"J\",\"F\",\"M\",\"A\",\"M\",\"J\",\"Jl\",\"A\",\"S\",\"O\",\"N\",\"D\"]\n",
    "n_days=[31,28,31,30,31,30,31,30,31,30,31,31]\n",
    "num_month=int(input(\"Enter the number of the month between 0 and 11\"))\n",
    "if(num_month>=0 and num_month<=11):\n",
    "    print(months[num_month])\n",
    "else:\n",
    "    print(\"The number is not correct\")"
   ]
  },
  {
   "cell_type": "markdown",
   "id": "2d1dbd59-d53d-461a-af63-6d81fa086595",
   "metadata": {},
   "source": [
    "# Ex 4"
   ]
  },
  {
   "cell_type": "code",
   "execution_count": 33,
   "id": "e3e290ac-c545-4ba9-bead-56290ef2333b",
   "metadata": {},
   "outputs": [
    {
     "name": "stdout",
     "output_type": "stream",
     "text": [
      "Abed-Nego\n",
      "Abed-Nego\n",
      "Abed-Nego\n"
     ]
    }
   ],
   "source": [
    "for j in range(3):\n",
    "    print(\"Abed-Nego\")"
   ]
  },
  {
   "cell_type": "code",
   "execution_count": 35,
   "id": "8409c99c-bd9a-4980-9b5c-f9ccbfda4163",
   "metadata": {},
   "outputs": [
    {
     "name": "stdout",
     "output_type": "stream",
     "text": [
      "Abed-Nego\n",
      "Abed-Nego\n",
      "Abed-Nego\n"
     ]
    }
   ],
   "source": [
    "k=0\n",
    "while(k<3):\n",
    "    print(\"Abed-Nego\")\n",
    "    k=k+1"
   ]
  },
  {
   "cell_type": "markdown",
   "id": "f0ce36ab-a15c-4728-98a4-b164f891b571",
   "metadata": {},
   "source": [
    "# Ex 5 Fibonacci sequence"
   ]
  },
  {
   "cell_type": "code",
   "execution_count": 43,
   "id": "caf91d00-4584-41ae-9dee-a64cc44b0207",
   "metadata": {},
   "outputs": [
    {
     "name": "stdin",
     "output_type": "stream",
     "text": [
      "The first number 1\n",
      "The second number 2\n"
     ]
    },
    {
     "name": "stdout",
     "output_type": "stream",
     "text": [
      "[1, 2, 3, 5, 8, 13, 21, 34, 55, 89, 144, 233, 377, 610, 987]\n"
     ]
    }
   ],
   "source": [
    "a=int(input(\"The first number\"))\n",
    "b=int(input(\"The second number\"))\n",
    "sequence=[a,b]\n",
    "tem=0\n",
    "for i in range(13):\n",
    "    tmp=b\n",
    "    b=b+a\n",
    "    a=tmp\n",
    "    sequence.append(b)\n",
    "print(sequence)"
   ]
  },
  {
   "cell_type": "markdown",
   "id": "35c238b7-ee70-44d6-918d-e5afcf0f922a",
   "metadata": {},
   "source": [
    "# Ex 6"
   ]
  },
  {
   "cell_type": "code",
   "execution_count": 3,
   "id": "9a63d2ec-a699-4e5d-89d5-d97059fa83bd",
   "metadata": {},
   "outputs": [
    {
     "name": "stdin",
     "output_type": "stream",
     "text": [
      "The first number 1\n",
      "The second number 2\n"
     ]
    },
    {
     "name": "stdout",
     "output_type": "stream",
     "text": [
      "[1, 2, 4, 8, 16, 32, 64, 128, 256, 512, 1024, 2048, 4096, 8192, 16384, 32768, 65536, 131072, 262144, 524288, 1048576, 2097152, 4194304, 8388608, 16777216, 33554432, 67108864, 134217728, 268435456, 536870912]\n",
      "30\n"
     ]
    }
   ],
   "source": [
    "x1=int(input(\"The first number\"))\n",
    "x2=int(input(\"The second number\"))\n",
    "i=1\n",
    "x3=0\n",
    "tp=0\n",
    "sea_list=[x1,x2]\n",
    "while(i<=28):\n",
    "    x3=(6*x1+x2)//2\n",
    "    x1=x2\n",
    "    x2=x3\n",
    "    sea_list.append(x3)\n",
    "    i=i+1\n",
    "print(sea_list)\n",
    "print(len(sea_list))"
   ]
  },
  {
   "cell_type": "markdown",
   "id": "c2ce529b-c408-43ff-b9d7-e337f909d08e",
   "metadata": {},
   "source": [
    "Ex7"
   ]
  },
  {
   "cell_type": "code",
   "execution_count": 26,
   "id": "06a240be-b112-47a0-9211-b1edddc9bab0",
   "metadata": {},
   "outputs": [
    {
     "name": "stdin",
     "output_type": "stream",
     "text": [
      "Enter the year to chech whether is a leap year or not 2010\n"
     ]
    },
    {
     "name": "stdout",
     "output_type": "stream",
     "text": [
      "2010 is not a leap year\n"
     ]
    }
   ],
   "source": [
    "#a) code to determine whether or not a year is a leap year\n",
    "year=int(input(\"Enter the year to chech whether is a leap year or not\"))\n",
    "t=\"{} is a leap year\".format(year)\n",
    "f=\"{} is not a leap year\".format(year)\n",
    "if (year%4==0 and year%100!=0):\n",
    "    print(t)\n",
    "elif year%100==0 and year%400==0:\n",
    "    print(t)\n",
    "else:\n",
    "    print(f)\n"
   ]
  },
  {
   "cell_type": "code",
   "execution_count": 36,
   "id": "56c49b8d-acce-4010-887a-b2cfa3464e24",
   "metadata": {},
   "outputs": [
    {
     "name": "stdin",
     "output_type": "stream",
     "text": [
      "Enter the year to chech whether is a leap year or not 2001\n"
     ]
    },
    {
     "name": "stdout",
     "output_type": "stream",
     "text": [
      "Is 2001 leap? False\n"
     ]
    }
   ],
   "source": [
    "#the code using only logical operators, i.e. no conditional branching.\n",
    "year=int(input(\"Enter the year to chech whether is a leap year or not\"))\n",
    "truth=(year%4==0 and year%100!=0) or (year%100==0 and year%400==0)\n",
    "print(f\"Is {year} leap? {truth}\")"
   ]
  },
  {
   "cell_type": "markdown",
   "id": "a7a216e7-49b6-436d-97ee-f3f1e3e26ac2",
   "metadata": {},
   "source": [
    "8) a)Code python that computes the sum of the square of the first n natural numbers.\r\n",
    "One version with a \"for loop\" and another version with a \"while loop\"."
   ]
  },
  {
   "cell_type": "code",
   "execution_count": 45,
   "id": "482e1f1f-7efd-44e6-9f5b-cac754d9fccc",
   "metadata": {},
   "outputs": [
    {
     "name": "stdin",
     "output_type": "stream",
     "text": [
      "Enter the number n 2\n"
     ]
    },
    {
     "name": "stdout",
     "output_type": "stream",
     "text": [
      "The sum is  5\n"
     ]
    }
   ],
   "source": [
    "n=int(input(\"Enter the number n\"))\n",
    "sum=0\n",
    "for i in range(n+1):\n",
    "    sum=sum+(i**2)\n",
    "print(\"The sum is \", sum)"
   ]
  },
  {
   "cell_type": "code",
   "execution_count": 43,
   "id": "e2a08ed7-ea9b-4cdb-bd36-c731a438734f",
   "metadata": {},
   "outputs": [
    {
     "name": "stdin",
     "output_type": "stream",
     "text": [
      "Enter the number n 2\n"
     ]
    },
    {
     "name": "stdout",
     "output_type": "stream",
     "text": [
      "The sum is  5\n"
     ]
    }
   ],
   "source": [
    "n=int(input(\"Enter the number n\"))\n",
    "sum=0\n",
    "i=0\n",
    "while(i<(n+1)):\n",
    "    sum=sum+(i**2)\n",
    "    i=i+1\n",
    "print(\"The sum is \", sum)"
   ]
  },
  {
   "cell_type": "code",
   "execution_count": 53,
   "id": "0916cbeb-3049-47e0-a8e1-bb6de70e2029",
   "metadata": {},
   "outputs": [
    {
     "name": "stdin",
     "output_type": "stream",
     "text": [
      "Enter the number M 2\n"
     ]
    },
    {
     "name": "stdout",
     "output_type": "stream",
     "text": [
      "the smallest natural number n such that 1^2+2^2+· · ·+n^2 ≥ M is  2\n"
     ]
    }
   ],
   "source": [
    "#b\n",
    "M=int(input(\"Enter the number M\"))\n",
    "sum=0\n",
    "i=0\n",
    "while(sum<M):\n",
    "    i=i+1\n",
    "    sum=sum+(i**2)\n",
    "print(\"the smallest natural number n such that 1^2+2^2+· · ·+n^2 ≥ M is \",i)"
   ]
  }
 ],
 "metadata": {
  "kernelspec": {
   "display_name": "Python 3 (ipykernel)",
   "language": "python",
   "name": "python3"
  },
  "language_info": {
   "codemirror_mode": {
    "name": "ipython",
    "version": 3
   },
   "file_extension": ".py",
   "mimetype": "text/x-python",
   "name": "python",
   "nbconvert_exporter": "python",
   "pygments_lexer": "ipython3",
   "version": "3.12.4"
  }
 },
 "nbformat": 4,
 "nbformat_minor": 5
}
